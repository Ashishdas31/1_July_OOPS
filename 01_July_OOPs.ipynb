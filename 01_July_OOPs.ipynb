{
 "cells": [
  {
   "cell_type": "markdown",
   "metadata": {},
   "source": [
    "Ans.  1\n",
    "\n",
    "The primary goal of Object-Oriented Programming (OOP) is to model real-world entities and their interactions in a software system using the concept of \"objects.\"\n",
    "OOP is a programming paradigm that emphasizes the organization of code and data around the idea of objects, which are instances of classes.\n",
    "The main goals of OOP include:\n",
    "1.Modularity and Reusability: OOP promotes modularity by encapsulating data and behavior within objects. This makes it easier to manage and maintain large codebases.\n",
    "\n",
    "2. Abstraction: Abstraction involves simplifying complex reality by modeling classes that represent real-world objects or concepts. \n",
    "\n",
    "3.Encapsulation: Encapsulation refers to the bundling of data (attributes) and methods (functions) that operate on the data into a single unit, the object. \n",
    "\n",
    "4. Inheritance: Inheritance allows you to create a new class based on an existing class (superclass or base class). \n",
    "\n",
    "5. Polymorphism: Polymorphism allows objects of different classes to be treated as objects of a common base class."
   ]
  },
  {
   "cell_type": "markdown",
   "metadata": {},
   "source": [
    "Ans.  2\n",
    "In Python, an object is a fundamental concept that represents a specific instance of a class. Objects are the building blocks of Object-Oriented Programming (OOP) and are used to model real-world entities and their interactions within a program.\n",
    "\n",
    "class Person:\n",
    "    def __init__(self, name, age):\n",
    "        self.name = name\n",
    "        self.age = age\n",
    "\n",
    "# Creating objects (instances) of the Person class\n",
    "person1 = Person(\"Alice\", 30)\n",
    "person2 = Person(\"Bob\", 25)\n"
   ]
  },
  {
   "cell_type": "markdown",
   "metadata": {},
   "source": [
    "Ans.  3.\n",
    "In Python, a class is a blueprint or template for creating objects. It defines the structure, attributes, and behaviors that objects of that class will have. A class serves as a logical and reusable container that encapsulates data and methods related to a specific concept or entity. It forms the foundation for practicing Object-Oriented Programming (OOP)."
   ]
  },
  {
   "cell_type": "markdown",
   "metadata": {},
   "source": []
  },
  {
   "cell_type": "markdown",
   "metadata": {},
   "source": [
    "Ans.  4.\n",
    "In a class, attributes and methods are fundamental components that define the structure and behavior of objects created from that class. They encapsulate the data and functionality related to a specific concept or entity and play a key role in Object-Oriented Programming (OOP). \n",
    "\n",
    "Attributes (Properties):\n",
    "Attributes are variables that hold data associated with objects created from a class.\n",
    "They represent the characteristics, properties, or state of objects.\n",
    "Each object of the class has its own set of attribute values.\n",
    "Attributes can be thought of as nouns that describe the object's characteristics.\n",
    "Attributes can be of different data types, including strings, numbers, booleans, or even other objects.\n",
    "Attributes can be accessed and modified using dot notation (object.attribute).\n",
    "\n",
    "Methods (Functions):\n",
    "Methods are functions defined within a class that operate on the attributes of objects.\n",
    "They represent the behaviors or actions that objects can perform.\n",
    "Methods can access and manipulate object attributes, and they can also perform other computations.\n",
    "Methods can be thought of as verbs that describe what an object can do.\n",
    "Methods are defined with the def keyword inside the class."
   ]
  },
  {
   "cell_type": "markdown",
   "metadata": {},
   "source": [
    "Ans.  5.\n",
    "In Python, both class variables and instance variables are used to store data within a class, but they serve different purposes and have different scopes. \n",
    "\n",
    "Class Variables:\n",
    "Class variables are shared among all instances (objects) of a class.\n",
    "They are defined within the class, outside of any method.\n",
    "Class variables have the same value for all instances of the class.\n",
    "They are typically used to store data that is common to all objects of the class.\n",
    "Changes to a class variable's value are reflected in all instances that access that variable.\n",
    "Class variables are accessed using the class name (ClassName.variable_name) or an instance of the class (instance.variable_name).\n",
    "\n",
    "Instance Variables:\n",
    "Instance variables are unique to each instance (object) of a class.\n",
    "They are defined within the class's methods, typically within the constructor (__init__) method.\n",
    "Instance variables have different values for different instances of the class.\n",
    "They are used to store data that varies from object to object.\n",
    "Changes to an instance variable's value affect only the specific instance that holds that variable.\n",
    "Instance variables are accessed using an instance of the class (instance.variable_name).\n",
    "\n",
    "class Circle:\n",
    "    pi = 3.14159  # Class variable\n",
    "\n",
    "    def __init__(self, radius):\n",
    "        self.radius = radius  # Instance variable\n",
    "\n",
    "# Creating instances of the Circle class\n",
    "circle1 = Circle(5)\n",
    "circle2 = Circle(7)\n",
    "\n",
    "# Accessing class variable\n",
    "print(Circle.pi)  # Output: 3.14159\n",
    "\n",
    "# Accessing instance variable\n",
    "print(circle1.radius)  # Output: 5\n",
    "print(circle2.radius)  # Output: 7\n"
   ]
  },
  {
   "cell_type": "markdown",
   "metadata": {},
   "source": [
    "Ans.  6.\n",
    "In Python, the self parameter in class methods refers to the instance of the class that the method is being called on. It is a convention used to pass the instance as the first parameter to instance methods. The self parameter allows methods to access and manipulate the attributes and other methods of the instance within the class.\n",
    "\n",
    "The purpose of the self parameter is to provide a way for instance methods to interact with the specific instance they are called on. It serves as a reference to the instance itself, enabling methods to work with the instance's data and behavior."
   ]
  },
  {
   "cell_type": "code",
   "execution_count": 1,
   "metadata": {},
   "outputs": [
    {
     "name": "stdout",
     "output_type": "stream",
     "text": [
      "Available copies of abc are 9\n",
      "Available copies of abc are 10\n",
      "Title : abc\n",
      "Author : xyz\n",
      "ISBN: 123\n",
      "Publication Year: 2000\n",
      "Available Copies: 10\n"
     ]
    }
   ],
   "source": [
    "#Ans.  7.\n",
    "class Book:\n",
    "    def __init__(self,title,author,isbn,publication_year,available_copies):\n",
    "        self.title=title\n",
    "        self.author=author\n",
    "        self.isbn=isbn\n",
    "        self.publication_year=publication_year\n",
    "        self.available_copies=available_copies\n",
    "    \n",
    "    def check_out(self):\n",
    "        if self.available_copies>0:\n",
    "            self.available_copies-=1\n",
    "            print(f\"Available copies of {self.title} are {self.available_copies}\")\n",
    "\n",
    "    def return_book(self):\n",
    "        self.available_copies+=1\n",
    "        print(f\"Available copies of {self.title} are {self.available_copies}\")\n",
    "\n",
    "    def display_book_info(self):\n",
    "        print(f\"Title : {self.title}\")\n",
    "        print(f\"Author : {self.author}\")\n",
    "        print(f\"ISBN: {self.isbn}\")\n",
    "        print(f\"Publication Year: {self.publication_year}\")\n",
    "        print(f\"Available Copies: {self.available_copies}\")\n",
    "\n",
    "B1=Book(\"abc\",\"xyz\",123,2000,10)\n",
    "\n",
    "B1.check_out()\n",
    "B1.return_book()\n",
    "B1.display_book_info()\n"
   ]
  },
  {
   "cell_type": "code",
   "execution_count": 17,
   "metadata": {},
   "outputs": [
    {
     "name": "stdout",
     "output_type": "stream",
     "text": [
      "The ticket is reserved\n",
      "The reservation is cancelled\n",
      "Ticket id : 123\n",
      "Event name : abc\n",
      "Event date : 31/08/2023\n",
      "Venue : Delhi\n",
      "Seat number : B1-23\n",
      "Price : 2000\n",
      "Reservation : True\n"
     ]
    }
   ],
   "source": [
    "# Ans.  8.\n",
    "class Ticket:\n",
    "    def __init__(self,ticket_id,event_name,event_date,venue,seat_number,price,is_reserved):\n",
    "        self.ticket_id=ticket_id\n",
    "        self.event_name=event_name\n",
    "        self.event_date=event_date\n",
    "        self.venue=venue\n",
    "        self.seat_number=seat_number\n",
    "        self.price=price\n",
    "        self.is_reserved=True\n",
    "\n",
    "    def reserve_ticket(self):\n",
    "        if self.is_reserved:\n",
    "            print(f\"The ticket is reserved\")\n",
    "        else:\n",
    "            print(\"The ticket is not reserved\")\n",
    "    \n",
    "    def cancel_reservation(self):\n",
    "        if self.is_reserved:\n",
    "            print(f\"The reservation is cancelled\")\n",
    "        else:\n",
    "            print(\"The ticket is not reserved\")\n",
    "\n",
    "    def display_ticket_info(self):\n",
    "        print(f\"Ticket id : {self.ticket_id}\")\n",
    "        print(f\"Event name : {self.event_name}\")\n",
    "        print(f\"Event date : {self.event_date}\")\n",
    "        print(f\"Venue : {self.venue}\")\n",
    "        print(f\"Seat number : {self.seat_number}\")\n",
    "        print(f\"Price : {self.price}\")\n",
    "        print(f\"Reservation : {self.is_reserved}\")\n",
    "\n",
    "Ticket_1=Ticket(123,\"abc\",\"31/08/2023\",\"Delhi\",\"B1-23\",2000,\"Reserved\")\n",
    "\n",
    "Ticket_1.reserve_ticket()\n",
    "Ticket_1.cancel_reservation()\n",
    "Ticket_1.display_ticket_info()\n",
    "\n",
    "\n",
    "\n",
    "\n",
    "\n",
    "\n",
    "\n"
   ]
  },
  {
   "cell_type": "code",
   "execution_count": 32,
   "metadata": {},
   "outputs": [
    {
     "name": "stdout",
     "output_type": "stream",
     "text": [
      "Item 1 are added to the cart\n",
      "Item 2 are added to the cart\n",
      "Item 3 are added to the cart\n",
      "Item 3 is removed from the cart\n",
      "Item 4 is not in cart\n",
      "Item in the cart are ['Item 1', 'Item 2']\n",
      "shopping cart is empty \n"
     ]
    }
   ],
   "source": [
    "# Ans.  9.\n",
    "class ShoppingCart:\n",
    "\n",
    "    def __init__(self):\n",
    "        self.items=[]\n",
    "\n",
    "    def add_item(self,item):\n",
    "        self.items.append(item)\n",
    "        print(f\"{item} are added to the cart\") \n",
    "\n",
    "    def remove_item(self,item):\n",
    "        if item in self.items:\n",
    "            self.items.remove(item)\n",
    "            print(f\"{item} is removed from the cart\") \n",
    "        else:\n",
    "            print(f\"{item} is not in cart\")\n",
    "\n",
    "    \n",
    "    def view_cart(self):\n",
    "        if not self.items:\n",
    "            print(\"Shopping cart is empty. \")\n",
    "        else:\n",
    "            print(f\"Item in the cart are {self.items}\")\n",
    "        \n",
    "    def clear_cart(self):\n",
    "        self.items=[]\n",
    "        print(\"shopping cart is empty \")\n",
    "\n",
    "\n",
    "\n",
    "S1=ShoppingCart()\n",
    "\n",
    "S1.add_item(\"Item 1\") \n",
    "S1.add_item(\"Item 2\")\n",
    "S1.add_item(\"Item 3\")\n",
    "S1.remove_item(\"Item 3\")\n",
    "S1.remove_item(\"Item 4\")\n",
    "S1.view_cart()\n",
    "S1.clear_cart()\n",
    "\n",
    "\n",
    "\n"
   ]
  },
  {
   "cell_type": "code",
   "execution_count": 39,
   "metadata": {},
   "outputs": [
    {
     "name": "stdout",
     "output_type": "stream",
     "text": [
      "Date : 31-08-2023\n",
      "Status : Present\n",
      "Attendance_record : 40\n",
      "Attendance percentage :  80.0 %\n"
     ]
    }
   ],
   "source": [
    "# Ans.  10.\n",
    "\n",
    "class Student:\n",
    "\n",
    "    def __init__(self,name,age,grade,student_id,attendance):\n",
    "        self.name=name\n",
    "        self.age=age\n",
    "        self.grade=grade\n",
    "        self.student_id=student_id\n",
    "        self.attendance=attendance\n",
    "\n",
    "    def update_attendance(self, date, status):\n",
    "        self.date=date\n",
    "        self.status=status\n",
    "\n",
    "        print(f\"Date : {self.date}\")\n",
    "        print(f\"Status : {self.status}\")\n",
    "\n",
    "    def get_attendance(self):\n",
    "        print(f\"Attendance_record : {self.attendance}\")\n",
    "\n",
    "    def get_average_attendance(self):\n",
    "        No_of_days=50\n",
    "        print(f\"Attendance percentage : \", (self.attendance/No_of_days)*100,\"%\")\n",
    "\n",
    "\n",
    "S1= Student(\"Jack\",23,\"A+\",123,40)\n",
    "\n",
    "S1.update_attendance(\"31-08-2023\",\"Present\")\n",
    "S1.get_attendance()\n",
    "S1.get_average_attendance()"
   ]
  }
 ],
 "metadata": {
  "kernelspec": {
   "display_name": "Python 3",
   "language": "python",
   "name": "python3"
  },
  "language_info": {
   "codemirror_mode": {
    "name": "ipython",
    "version": 3
   },
   "file_extension": ".py",
   "mimetype": "text/x-python",
   "name": "python",
   "nbconvert_exporter": "python",
   "pygments_lexer": "ipython3",
   "version": "3.9.13"
  },
  "orig_nbformat": 4
 },
 "nbformat": 4,
 "nbformat_minor": 2
}
